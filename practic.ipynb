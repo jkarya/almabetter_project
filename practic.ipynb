{
  "cells": [
    {
      "cell_type": "markdown",
      "metadata": {
        "id": "view-in-github",
        "colab_type": "text"
      },
      "source": [
        "<a href=\"https://colab.research.google.com/github/jkarya/almabetter_project/blob/main/practic.ipynb\" target=\"_parent\"><img src=\"https://colab.research.google.com/assets/colab-badge.svg\" alt=\"Open In Colab\"/></a>"
      ]
    },
    {
      "cell_type": "code",
      "execution_count": null,
      "metadata": {
        "colab": {
          "base_uri": "https://localhost:8080/"
        },
        "id": "gU1jeLMpSv91",
        "outputId": "c90bc5e4-68cc-44b3-be89-adfbf31438b5"
      },
      "outputs": [
        {
          "name": "stdout",
          "output_type": "stream",
          "text": [
            "7\n"
          ]
        }
      ],
      "source": [
        "add= lambda x,y : x+y\n",
        "result = add(3,4)\n",
        "print(result)"
      ]
    },
    {
      "cell_type": "code",
      "execution_count": null,
      "metadata": {
        "colab": {
          "base_uri": "https://localhost:8080/"
        },
        "id": "lqsiZkjESwAU",
        "outputId": "c8e065ea-5b69-4143-a683-09f018850edf"
      },
      "outputs": [
        {
          "name": "stdout",
          "output_type": "stream",
          "text": [
            "10\n"
          ]
        }
      ],
      "source": [
        "def add1(x,y):\n",
        "  z = x+y\n",
        "  return z\n",
        "result= add1 (6,4)\n",
        "print(result)"
      ]
    },
    {
      "cell_type": "code",
      "execution_count": null,
      "metadata": {
        "id": "am75NRsqSwCx"
      },
      "outputs": [],
      "source": [
        "divide= lambda x,y: \"undefine\" if y==0 else x//y"
      ]
    },
    {
      "cell_type": "code",
      "execution_count": null,
      "metadata": {
        "colab": {
          "base_uri": "https://localhost:8080/"
        },
        "id": "hasVMCS2SwFD",
        "outputId": "b935c5dc-0a2b-434f-d553-8bf1ee4698a1"
      },
      "outputs": [
        {
          "name": "stdout",
          "output_type": "stream",
          "text": [
            "5\n"
          ]
        }
      ],
      "source": [
        "print(divide(10,2))"
      ]
    },
    {
      "cell_type": "code",
      "execution_count": null,
      "metadata": {
        "colab": {
          "base_uri": "https://localhost:8080/"
        },
        "id": "06tM3cRoSwJS",
        "outputId": "5fc716b5-bfbe-4598-cebb-162326e8d2fa"
      },
      "outputs": [
        {
          "name": "stdout",
          "output_type": "stream",
          "text": [
            "[2, 4, 6, 8, 10]\n"
          ]
        }
      ],
      "source": [
        "numbers=[1,2,3,4,5,6,7,8,9,10]\n",
        "even_numbers=list(filter(lambda x:x%2==0,numbers))\n",
        "print(even_numbers)"
      ]
    },
    {
      "cell_type": "code",
      "execution_count": null,
      "metadata": {
        "colab": {
          "base_uri": "https://localhost:8080/"
        },
        "id": "GepiB6TiSwLX",
        "outputId": "042fdbd5-8c70-4d70-e53a-884064660030"
      },
      "outputs": [
        {
          "data": {
            "text/plain": [
              "[2, 4, 6, 8, 10]"
            ]
          },
          "execution_count": 6,
          "metadata": {},
          "output_type": "execute_result"
        }
      ],
      "source": [
        "def even_num(x):\n",
        "  lst=[]\n",
        "  for num in x:\n",
        "    if num %2==0:\n",
        "      lst.append(num)\n",
        "  return lst\n",
        "numbers =[1,2,3,4,5,6,7,8,9,10]\n",
        "lst= even_num(numbers)\n",
        "lst\n"
      ]
    },
    {
      "cell_type": "code",
      "execution_count": null,
      "metadata": {
        "colab": {
          "base_uri": "https://localhost:8080/"
        },
        "id": "bCYKv2fwSwR2",
        "outputId": "bede7f65-3555-4667-fff0-ef47e2eca579"
      },
      "outputs": [
        {
          "name": "stdout",
          "output_type": "stream",
          "text": [
            "[1, 4, 9, 16, 25]\n"
          ]
        }
      ],
      "source": [
        "numbers =[1,2,3,4,5]\n",
        "square =list(map(lambda x:x**2,numbers))\n",
        "print(square)"
      ]
    },
    {
      "cell_type": "code",
      "execution_count": null,
      "metadata": {
        "colab": {
          "base_uri": "https://localhost:8080/"
        },
        "id": "Lsii5eqnSwWI",
        "outputId": "732a0990-dfbd-4add-b3cb-e8ba322899a5"
      },
      "outputs": [
        {
          "name": "stdout",
          "output_type": "stream",
          "text": [
            "[5, 6, 6]\n"
          ]
        }
      ],
      "source": [
        "words=[\"apple\",\"banana\",\"cherry\"]\n",
        "lengths= list(map(len,words))\n",
        "print(lengths)"
      ]
    },
    {
      "cell_type": "code",
      "execution_count": null,
      "metadata": {
        "colab": {
          "base_uri": "https://localhost:8080/"
        },
        "id": "_gwSIxmkSwYv",
        "outputId": "49dad86f-3642-4c8c-e193-428344b549b8"
      },
      "outputs": [
        {
          "name": "stdout",
          "output_type": "stream",
          "text": [
            "[1, 4, 9, 16, 25, 36, 49, 64, 81, 100]\n"
          ]
        }
      ],
      "source": [
        "square =[]\n",
        "for i in range(1,11):\n",
        "  square.append(i**2)\n",
        "print(square)\n"
      ]
    },
    {
      "cell_type": "code",
      "execution_count": null,
      "metadata": {
        "colab": {
          "base_uri": "https://localhost:8080/"
        },
        "id": "M_sfxZvpSwbV",
        "outputId": "259aa592-29ac-4024-8ba4-c4e9593d581c"
      },
      "outputs": [
        {
          "name": "stdout",
          "output_type": "stream",
          "text": [
            "[4, 16, 36, 64, 100]\n"
          ]
        }
      ],
      "source": [
        "squares=[i**2 for i in range (1,11) if i%2==0]\n",
        "print(squares)"
      ]
    },
    {
      "cell_type": "code",
      "execution_count": null,
      "metadata": {
        "colab": {
          "base_uri": "https://localhost:8080/"
        },
        "id": "tGW2a5BXSwdp",
        "outputId": "e51584ff-4aa3-447f-a5e5-78ae386b3276"
      },
      "outputs": [
        {
          "name": "stdout",
          "output_type": "stream",
          "text": [
            "[(2, 1), (2, 3), (2, 5), (4, 1), (4, 3), (4, 5)]\n"
          ]
        }
      ],
      "source": [
        "pairs=[(i,j)for i in range (1,6) if i%2==0 for j in range(1,6)if j%2==1]\n",
        "print(pairs)"
      ]
    },
    {
      "cell_type": "code",
      "execution_count": null,
      "metadata": {
        "colab": {
          "base_uri": "https://localhost:8080/"
        },
        "id": "bSp3pjd2SwgR",
        "outputId": "66dd7227-f0c9-4bd4-bbd2-7dad78482cd2"
      },
      "outputs": [
        {
          "data": {
            "text/plain": [
              "['D', 'A', 'C', 'D', 'C', 'D', 'C']"
            ]
          },
          "execution_count": 12,
          "metadata": {},
          "output_type": "execute_result"
        }
      ],
      "source": [
        "grades=[78,92,85,65,89,76,81]\n",
        "lst=[]\n",
        "for grade in grades:\n",
        "  if grade>=90:\n",
        "    lst.append(\"A\")\n",
        "  elif grade >=80:\n",
        "    lst.append(\"C\")\n",
        "  elif grade >= 70:\n",
        "    lst.append(\"D\")\n",
        "  elif grade >=60:\n",
        "    lst.append(\"D\")\n",
        "  else:\n",
        "    lst.append(\"E\")\n",
        "\n",
        "lst"
      ]
    },
    {
      "cell_type": "code",
      "execution_count": null,
      "metadata": {
        "colab": {
          "base_uri": "https://localhost:8080/"
        },
        "id": "tp6ldbEVSwiq",
        "outputId": "15f7348e-5157-477c-923d-7f8238bf8676"
      },
      "outputs": [
        {
          "name": "stdout",
          "output_type": "stream",
          "text": [
            "['C', 'A', 'B', 'D', 'B', 'C', 'B']\n"
          ]
        }
      ],
      "source": [
        "print(['A'if grade >=90 else 'B' if grade >=80 else 'C' if grade >=70 else 'D'if grade>60 else'F' for grade in grades])"
      ]
    },
    {
      "cell_type": "code",
      "execution_count": null,
      "metadata": {
        "colab": {
          "base_uri": "https://localhost:8080/"
        },
        "id": "2v0bKllBSwli",
        "outputId": "cbf15a55-a33f-4909-aadd-fd638cb12c22"
      },
      "outputs": [
        {
          "name": "stdout",
          "output_type": "stream",
          "text": [
            "[80.0, 40.0, 64.0, 96.0, 120.0]\n"
          ]
        }
      ],
      "source": [
        "\n",
        "prices=[100,50,80,120,150]\n",
        "lst=[]\n",
        "for price in prices:\n",
        "  lst.append(price*0.8)\n",
        "print(lst)"
      ]
    },
    {
      "cell_type": "code",
      "execution_count": null,
      "metadata": {
        "colab": {
          "base_uri": "https://localhost:8080/"
        },
        "id": "_4bN02mQSwoZ",
        "outputId": "630e8e20-d783-473f-b781-c045adcb726d"
      },
      "outputs": [
        {
          "name": "stdout",
          "output_type": "stream",
          "text": [
            "[80.0, 40.0, 64.0, 96.0, 120.0]\n"
          ]
        }
      ],
      "source": [
        "print([price*0.8 for price  in prices])"
      ]
    },
    {
      "cell_type": "code",
      "execution_count": null,
      "metadata": {
        "colab": {
          "base_uri": "https://localhost:8080/"
        },
        "id": "0pMmtcXjSwrA",
        "outputId": "d2017ba4-4a01-4c7d-e5ba-8af93630bc4a"
      },
      "outputs": [
        {
          "name": "stdout",
          "output_type": "stream",
          "text": [
            "{'o', 'e'}\n"
          ]
        }
      ],
      "source": [
        "vowels =set()\n",
        "for  char in \"hello world\":\n",
        "  if char in \"aeiou\":\n",
        "    vowels.add(char)\n",
        "print(vowels)"
      ]
    },
    {
      "cell_type": "code",
      "execution_count": null,
      "metadata": {
        "colab": {
          "base_uri": "https://localhost:8080/"
        },
        "id": "r-vM4OGeSwtq",
        "outputId": "2ba10165-a326-48ee-a977-032aecfa2148"
      },
      "outputs": [
        {
          "name": "stdout",
          "output_type": "stream",
          "text": [
            "{'o', 'e'}\n"
          ]
        }
      ],
      "source": [
        "voels=[char for char in \"hello world\" if char in \"aeiou\"]\n",
        "print(vowels)"
      ]
    },
    {
      "cell_type": "code",
      "execution_count": null,
      "metadata": {
        "colab": {
          "base_uri": "https://localhost:8080/"
        },
        "id": "tLhCiWsySwwY",
        "outputId": "b2c95282-182c-4e6d-8be8-3c15293fe7f8"
      },
      "outputs": [
        {
          "name": "stdout",
          "output_type": "stream",
          "text": [
            "{'l', 'o'}\n"
          ]
        }
      ],
      "source": [
        "string1=\"hello\"\n",
        "string2=\"world\"\n",
        "unique_chars ={char for char in string1 for char2 in string2 if char==char2}\n",
        "print(unique_chars)\n"
      ]
    },
    {
      "cell_type": "code",
      "execution_count": null,
      "metadata": {
        "id": "5up0HRG7SwzZ"
      },
      "outputs": [],
      "source": [
        "class calculator:\n",
        " def __init__(self):\n",
        "    self.result=0\n",
        " def add(self,num1,num2):\n",
        "     self.result= num1+num2\n",
        "     return self.result\n",
        " def subtraction (self,num1,num2):\n",
        "     self.result= num1-num2\n",
        "     return self.result\n",
        " def multiply(self,num1,num2):\n",
        "     self.result= num1*num2\n",
        "     return self.result\n",
        " def divide(self,num1,num2):\n",
        "     if num2==0:\n",
        "      raise ValueError(\"cannot divide by zero\")\n",
        "     self.result= num1/num2\n",
        "     return self.result\n",
        " def clear(self):\n",
        "     self.result=0\n",
        "     return self.result\n"
      ]
    },
    {
      "cell_type": "code",
      "execution_count": null,
      "metadata": {
        "id": "WLm1W882Sw2V"
      },
      "outputs": [],
      "source": [
        "result=9"
      ]
    },
    {
      "cell_type": "code",
      "execution_count": null,
      "metadata": {
        "id": "8dZ92zQCSw4Q"
      },
      "outputs": [],
      "source": [
        "class Atm:\n",
        "# constructure\n",
        "  def __init__(self):\n",
        "   self. pin=''\n",
        "   self. balance=0\n",
        "   self. menu()\n",
        "\n",
        "  def menu(self):\n",
        "    user_input =input(\"\"\"\n",
        "    hHi how can i help you?\n",
        "    1.Press 1 to creat pin\n",
        "    2.Press 2 to change pin\n",
        "    3.Press 3 to check balance\n",
        "    4.Press 4 to withdraw\n",
        "    5. Anything else to exit\n",
        "    \"\"\")\n",
        "    if user_input=='1':\n",
        "      #create pin\n",
        "      self.create_pin()\n",
        "    elif user_input=='2':\n",
        "      #change ppin\n",
        "      self.change_pin()\n",
        "    elif user_input=='3':\n",
        "      #check balance\n",
        "      self.check_balance()\n",
        "    elif user_input=='4':\n",
        "      #withdraw\n",
        "      self.withdraw\n",
        "    else:\n",
        "      exit()\n",
        "  def create_pin(self):\n",
        "   user_pin=input('enter your pin')\n",
        "   self.pin =user_pin\n",
        "   user_balance=int(input('enter balance'))\n",
        "   self.balance=user_balance\n",
        "\n",
        "   print('pin creatrd succcessfully')\n",
        "   self.menu()\n",
        "  def change_pin(self):\n",
        "    old_pin=input('enter old pin')\n",
        "    if old_pin==self.pin:\n",
        "     new_pin=input('enter new pin')\n",
        "     self.pin=new_pin\n",
        "     print('pin change successfully')\n",
        "     self.menu()\n",
        "    else:\n",
        "      print('nai karna h ha chNAGE')\n",
        "      self.menu()\n",
        "  def check_balance(self):\n",
        "    user_pin=input('enter your pin')\n",
        "    if user_pin == self.pin:\n",
        "      print('ypur balance is',self.balance)\n",
        "    else:\n",
        "     print('chal nikal')\n",
        "    self.menu()\n",
        "  def withdraw(self):\n",
        "    user_pin=input('enter the pin')\n",
        "    if user_pin== self.pin:\n",
        "     amount=int( input('enter the amount'))\n",
        "     if amount<=self.balance:\n",
        "      self.balance=self.balance-amount\n",
        "      print('withdraw successful balance is ',self.balance)\n",
        "     else:\n",
        "      print('abe garib')\n",
        "    else:\n",
        "      print('sale chore')\n",
        "    self.menu()"
      ]
    },
    {
      "cell_type": "code",
      "execution_count": null,
      "metadata": {
        "colab": {
          "base_uri": "https://localhost:8080/"
        },
        "id": "m9y0JT4BSw7S",
        "outputId": "aae828de-0ff5-4619-8dbd-da16e096d302"
      },
      "outputs": [
        {
          "output_type": "stream",
          "name": "stdout",
          "text": [
            "\n",
            "    hHi how can i help you?\n",
            "    1.Press 1 to creat pin\n",
            "    2.Press 2 to change pin\n",
            "    3.Press 3 to check balance\n",
            "    4.Press 4 to withdraw\n",
            "    5. Anything else to exit\n",
            "    1\n",
            "enter your pin1234\n",
            "enter balance10000\n",
            "pin creatrd succcessfully\n",
            "\n",
            "    hHi how can i help you?\n",
            "    1.Press 1 to creat pin\n",
            "    2.Press 2 to change pin\n",
            "    3.Press 3 to check balance\n",
            "    4.Press 4 to withdraw\n",
            "    5. Anything else to exit\n",
            "    2\n",
            "enter old pin1234\n",
            "enter new pin2345\n",
            "pin change successfully\n",
            "\n",
            "    hHi how can i help you?\n",
            "    1.Press 1 to creat pin\n",
            "    2.Press 2 to change pin\n",
            "    3.Press 3 to check balance\n",
            "    4.Press 4 to withdraw\n",
            "    5. Anything else to exit\n",
            "    3\n",
            "enter your pin2345\n",
            "ypur balance is 10000\n"
          ]
        }
      ],
      "source": [
        "obj=Atm()"
      ]
    },
    {
      "cell_type": "code",
      "execution_count": null,
      "metadata": {
        "id": "cna7lbLCSw94"
      },
      "outputs": [],
      "source": [
        "my_array=[]"
      ]
    },
    {
      "cell_type": "code",
      "execution_count": null,
      "metadata": {
        "id": "JcCVba4ASxAv"
      },
      "outputs": [],
      "source": [
        "my_array=[1,2,3,4,5]"
      ]
    },
    {
      "cell_type": "code",
      "execution_count": null,
      "metadata": {
        "id": "jTrF1OLySxDr",
        "colab": {
          "base_uri": "https://localhost:8080/"
        },
        "outputId": "8af8d199-8f5c-4456-f403-c3881e5b61e4"
      },
      "outputs": [
        {
          "output_type": "execute_result",
          "data": {
            "text/plain": [
              "array('i', [1, 2, 3, 4, 5])"
            ]
          },
          "metadata": {},
          "execution_count": 3
        }
      ],
      "source": [
        "import array\n",
        "my_array=array.array('i',[1,2,3,4,5])\n",
        "my_array"
      ]
    },
    {
      "cell_type": "code",
      "execution_count": null,
      "metadata": {
        "id": "GnOzR3R3SxGd",
        "colab": {
          "base_uri": "https://localhost:8080/"
        },
        "outputId": "11618a20-02d4-4540-e4b7-20803f7581b0"
      },
      "outputs": [
        {
          "output_type": "stream",
          "name": "stdout",
          "text": [
            "[[1 2 3]\n",
            " [4 5 6]]\n"
          ]
        }
      ],
      "source": [
        "import numpy as np\n",
        "my_array=np.array([[1,2,3],[4,5,6]])\n",
        "print(my_array)"
      ]
    },
    {
      "cell_type": "code",
      "execution_count": null,
      "metadata": {
        "id": "93Klt-pgSxJY",
        "colab": {
          "base_uri": "https://localhost:8080/"
        },
        "outputId": "68a92e62-0f7c-4014-abdf-551da1fdc253"
      },
      "outputs": [
        {
          "output_type": "stream",
          "name": "stdout",
          "text": [
            "[[1 2 3]\n",
            " [4 5 6]\n",
            " [7 8 9]]\n"
          ]
        }
      ],
      "source": [
        "import numpy as np\n",
        "my_array=np.array([[1,2,3],\n",
        "                   [4,5,6],\n",
        "                   [7,8,9]])\n",
        "print(my_array)"
      ]
    },
    {
      "cell_type": "code",
      "execution_count": null,
      "metadata": {
        "id": "xD2l8PRuSxL8"
      },
      "outputs": [],
      "source": [
        "#class and section [[1A,1B,2C],[2A,2B,c],[3A,3B,3C],[4A,4B,4C]]\n",
        "class_size=[[25,30,28],\n",
        "            [20,22,25],\n",
        "            [27,24,26],\n",
        "            [18,20,22]]\n",
        "\n"
      ]
    },
    {
      "cell_type": "code",
      "execution_count": null,
      "metadata": {
        "id": "UDRAevlUSxO2",
        "colab": {
          "base_uri": "https://localhost:8080/"
        },
        "outputId": "7f4749d1-a7ef-41b0-a8d0-ba542cf4cff6"
      },
      "outputs": [
        {
          "output_type": "stream",
          "name": "stdout",
          "text": [
            "25\n",
            "24\n",
            "22\n",
            "the strength of class 1 is 83\n",
            "the strength of class 2 is 67\n",
            "the strength of class 3 is 77\n",
            "the strength of class 4 is 60\n",
            "the strength of scholl is  287\n"
          ]
        }
      ],
      "source": [
        "print(class_size[0][0])\n",
        "print(class_size[2][1])\n",
        "print(class_size[3][2])\n",
        "\n",
        "sum_1=0\n",
        "for i in range(0,len(class_size)):\n",
        "  sum_1= sum_1+sum(class_size[i])\n",
        "  print('the strength of class',i+1,'is',sum(class_size[i]))\n",
        "\n",
        "print('the strength of scholl is ', sum_1)"
      ]
    },
    {
      "cell_type": "code",
      "execution_count": null,
      "metadata": {
        "id": "JDudYa-NSxRt",
        "colab": {
          "base_uri": "https://localhost:8080/"
        },
        "outputId": "cd38b7a4-a478-41f8-fec1-5cc0b85de4f8"
      },
      "outputs": [
        {
          "output_type": "stream",
          "name": "stdout",
          "text": [
            "Element found at index:  2\n"
          ]
        }
      ],
      "source": [
        "my_array=[1,2,3,4,5]\n",
        "search_element = 3\n",
        "\n",
        "for index,element in enumerate(my_array):\n",
        "  if element ==search_element:\n",
        "    print('Element found at index: ', index)\n",
        "    break\n",
        "else:\n",
        "  print('Element not found in the array')\n"
      ]
    },
    {
      "cell_type": "code",
      "execution_count": null,
      "metadata": {
        "id": "JZyCJawKSxUg",
        "colab": {
          "base_uri": "https://localhost:8080/"
        },
        "outputId": "d97ce5e8-137d-491f-e645-46f2434a285f"
      },
      "outputs": [
        {
          "output_type": "stream",
          "name": "stdout",
          "text": [
            "[10, 15, 20, 30]\n"
          ]
        }
      ],
      "source": [
        "arr=[]\n",
        "arr.append(10)\n",
        "arr.append(20)\n",
        "arr.append(30)\n",
        "arr.insert(1,15)\n",
        "print(arr)"
      ]
    },
    {
      "cell_type": "code",
      "execution_count": null,
      "metadata": {
        "id": "bu3IS1EKSxXp",
        "colab": {
          "base_uri": "https://localhost:8080/"
        },
        "outputId": "81ab7002-6cd7-45b1-8748-f4ad8dae1c28"
      },
      "outputs": [
        {
          "output_type": "stream",
          "name": "stdout",
          "text": [
            "[10, 15, 25]\n"
          ]
        }
      ],
      "source": [
        "arr=[10,15,20,25,30]\n",
        "del arr[2]\n",
        "arr.remove(30)\n",
        "print(arr)\n"
      ]
    },
    {
      "cell_type": "code",
      "execution_count": null,
      "metadata": {
        "id": "bxwPtdMESxZe",
        "colab": {
          "base_uri": "https://localhost:8080/"
        },
        "outputId": "32d0bfdc-cc29-4123-dd63-c77615697003"
      },
      "outputs": [
        {
          "output_type": "stream",
          "name": "stdout",
          "text": [
            "[10, 15, 20, 25, 30]\n",
            "[30, 25, 20, 15, 10]\n"
          ]
        }
      ],
      "source": [
        "arr=[10,15,20,25,30]\n",
        "arr.sort()\n",
        "print(arr)\n",
        "arr.sort(reverse=True)\n",
        "print(arr)"
      ]
    },
    {
      "cell_type": "code",
      "execution_count": null,
      "metadata": {
        "id": "NMvHNOn8SxcE",
        "colab": {
          "base_uri": "https://localhost:8080/"
        },
        "outputId": "a24d0381-8325-489d-b953-b1042ebfc64f"
      },
      "outputs": [
        {
          "output_type": "stream",
          "name": "stdout",
          "text": [
            "3\n"
          ]
        }
      ],
      "source": [
        "arr=[1,2,3,4,5]\n",
        "print(arr[2])"
      ]
    },
    {
      "cell_type": "code",
      "execution_count": null,
      "metadata": {
        "id": "BrnwfqaXSxe8"
      },
      "outputs": [],
      "source": [
        "menus=[\n",
        "    ['Burger',10.9,'Entree'],\n",
        "    ['Salad',7.99,'Appetizer'],\n",
        "    ['pizza',14.99,'entree'],\n",
        "    ['fries',3.99,'side'],\n",
        "    ['ice cream',4.99,'Dissert'],\n",
        "]\n"
      ]
    },
    {
      "cell_type": "code",
      "execution_count": null,
      "metadata": {
        "id": "UZOQ_UCCSxhk",
        "colab": {
          "base_uri": "https://localhost:8080/"
        },
        "outputId": "9a527101-468b-4983-99f9-ca382319f471"
      },
      "outputs": [
        {
          "output_type": "execute_result",
          "data": {
            "text/plain": [
              "['Burger', 'Salad', 'pizza', 'fries', 'ice cream']"
            ]
          },
          "metadata": {},
          "execution_count": 36
        }
      ],
      "source": [
        "list_item=[]\n",
        "for menu in menus:\n",
        " list_item.append(menu[0])\n",
        "list_item"
      ]
    },
    {
      "cell_type": "code",
      "execution_count": null,
      "metadata": {
        "id": "ztziZBRmSxkZ",
        "colab": {
          "base_uri": "https://localhost:8080/"
        },
        "outputId": "410a0546-9081-45ae-b19a-5b1652ca6480"
      },
      "outputs": [
        {
          "output_type": "stream",
          "name": "stdout",
          "text": [
            "Enter a menu item to search: mosns\n",
            "item not found\n"
          ]
        }
      ],
      "source": [
        "search_item=input('Enter a menu item to search: ')\n",
        "if search_item in list_item:\n",
        "  print('Item in menu')\n",
        "else:\n",
        "  print('item not found')\n"
      ]
    },
    {
      "cell_type": "code",
      "execution_count": null,
      "metadata": {
        "id": "CTHLtux1SxnR",
        "colab": {
          "base_uri": "https://localhost:8080/"
        },
        "outputId": "a390515d-df57-4c18-e37d-61cbf3057ec7"
      },
      "outputs": [
        {
          "output_type": "execute_result",
          "data": {
            "text/plain": [
              "[['fries', 3.99, 'side'],\n",
              " ['ice cream', 4.99, 'Dissert'],\n",
              " ['Salad', 7.99, 'Appetizer'],\n",
              " ['Burger', 10.9, 'Entree'],\n",
              " ['pizza', 14.99, 'entree']]"
            ]
          },
          "metadata": {},
          "execution_count": 42
        }
      ],
      "source": [
        "menus.sort(key=lambda item:item[1])\n",
        "menus"
      ]
    },
    {
      "cell_type": "code",
      "execution_count": null,
      "metadata": {
        "id": "fxIdxDyxSxqI",
        "colab": {
          "base_uri": "https://localhost:8080/"
        },
        "outputId": "ae72cf17-4bde-4a9f-ea57-4a77fe933fd7"
      },
      "outputs": [
        {
          "output_type": "stream",
          "name": "stdout",
          "text": [
            "Enter a menu item to  delet: pizza\n",
            "Menu item not found\n",
            "Menu item not found\n",
            "Menu item not found\n",
            "Menu item not found\n"
          ]
        },
        {
          "output_type": "execute_result",
          "data": {
            "text/plain": [
              "[['fries', 3.99, 'side'],\n",
              " ['ice cream', 4.99, 'Dissert'],\n",
              " ['Salad', 7.99, 'Appetizer'],\n",
              " ['Burger', 10.9, 'Entree']]"
            ]
          },
          "metadata": {},
          "execution_count": 45
        }
      ],
      "source": [
        "delet_item=input('Enter a menu item to  delet: ')\n",
        "for menu in menus:\n",
        "  if menu[0]== delet_item:\n",
        "    menus.remove(menu)\n",
        "    break\n",
        "  else:\n",
        "    print('Menu item not found')\n",
        "menus\n",
        "\n",
        "\n"
      ]
    },
    {
      "cell_type": "code",
      "execution_count": null,
      "metadata": {
        "id": "WAuYJudzSxsx",
        "colab": {
          "base_uri": "https://localhost:8080/"
        },
        "outputId": "3ad5ff50-c6e9-4723-d046-c58a1bb24512"
      },
      "outputs": [
        {
          "output_type": "stream",
          "name": "stdout",
          "text": [
            "Hellow World\n",
            "apple,banana,orange\n"
          ]
        }
      ],
      "source": [
        "string1='Hellow'\n",
        "string2='World'\n",
        "concatenated_string=string1+' '+string2\n",
        "print(concatenated_string)\n",
        "string_list=['apple','banana','orange']\n",
        "separator=','\n",
        "concatenated_string=separator.join(string_list)\n",
        "print(concatenated_string)"
      ]
    },
    {
      "cell_type": "code",
      "execution_count": null,
      "metadata": {
        "id": "R0UDr38qSxv5",
        "colab": {
          "base_uri": "https://localhost:8080/"
        },
        "outputId": "74f649bc-058c-4337-a97e-3b6ca45a3e72"
      },
      "outputs": [
        {
          "output_type": "stream",
          "name": "stdout",
          "text": [
            "1\n"
          ]
        }
      ],
      "source": [
        "from array import array\n",
        "arr=array('i',[1,2,3])\n",
        "print(arr[0])"
      ]
    },
    {
      "cell_type": "code",
      "execution_count": null,
      "metadata": {
        "id": "0-6Ob8hMSxym",
        "colab": {
          "base_uri": "https://localhost:8080/"
        },
        "outputId": "bc2db774-e074-4d51-87a3-d8513c1e34da"
      },
      "outputs": [
        {
          "output_type": "stream",
          "name": "stdout",
          "text": [
            "230\n"
          ]
        }
      ],
      "source": [
        "value=230\n",
        "if value>112:\n",
        "  print(value)\n",
        "  value+=1"
      ]
    },
    {
      "cell_type": "code",
      "execution_count": null,
      "metadata": {
        "id": "B24v-BVZSx1q",
        "colab": {
          "base_uri": "https://localhost:8080/"
        },
        "outputId": "10ac4a40-3780-4482-ea4f-6a5181ddbc86"
      },
      "outputs": [
        {
          "output_type": "stream",
          "name": "stdout",
          "text": [
            "yes\n"
          ]
        }
      ],
      "source": [
        "if 10 in [0,10,20]:\n",
        "  print('yes')"
      ]
    },
    {
      "cell_type": "code",
      "execution_count": null,
      "metadata": {
        "id": "tr2T_tsJSx4i",
        "colab": {
          "base_uri": "https://localhost:8080/"
        },
        "outputId": "d9af7e99-c265-4229-b5fc-f395010823ea"
      },
      "outputs": [
        {
          "output_type": "execute_result",
          "data": {
            "text/plain": [
              "120"
            ]
          },
          "metadata": {},
          "execution_count": 5
        }
      ],
      "source": [
        "def facto(n):\n",
        "  if n==1:\n",
        "    return 1\n",
        "  else:\n",
        "    return n*facto(n-1)\n",
        "facto(5)"
      ]
    },
    {
      "cell_type": "code",
      "execution_count": null,
      "metadata": {
        "id": "gjJDeRr1Sx7Z",
        "colab": {
          "base_uri": "https://localhost:8080/"
        },
        "outputId": "a7665b90-db7b-4fa4-d946-3d1e40b5bea6"
      },
      "outputs": [
        {
          "output_type": "stream",
          "name": "stdout",
          "text": [
            "120\n"
          ]
        }
      ],
      "source": [
        "import math\n",
        "print(math.factorial(5))"
      ]
    },
    {
      "cell_type": "code",
      "execution_count": null,
      "metadata": {
        "id": "4_ddQ4CQSx-K",
        "colab": {
          "base_uri": "https://localhost:8080/"
        },
        "outputId": "ff410fc2-9e6e-45f7-e3ac-548a3ae899d5"
      },
      "outputs": [
        {
          "output_type": "execute_result",
          "data": {
            "text/plain": [
              "21"
            ]
          },
          "metadata": {},
          "execution_count": 1
        }
      ],
      "source": [
        "def calculate_point(items):\n",
        "  if items==1:\n",
        "    return 1\n",
        "  else:\n",
        "    return items +calculate_point(items-1)\n",
        "calculate_point(6)"
      ]
    },
    {
      "cell_type": "code",
      "execution_count": null,
      "metadata": {
        "id": "ShbjWp49SyAw",
        "colab": {
          "base_uri": "https://localhost:8080/"
        },
        "outputId": "0acc888e-3f25-4a19-b836-46351397678e"
      },
      "outputs": [
        {
          "output_type": "execute_result",
          "data": {
            "text/plain": [
              "120"
            ]
          },
          "metadata": {},
          "execution_count": 4
        }
      ],
      "source": [
        "def factorial(n):\n",
        "  if n==1:\n",
        "    return 1\n",
        "  else:\n",
        "    return  n* factorial(n-1)\n",
        "factorial(5)"
      ]
    },
    {
      "cell_type": "code",
      "execution_count": null,
      "metadata": {
        "id": "hUBSUT4bSyD5",
        "colab": {
          "base_uri": "https://localhost:8080/"
        },
        "outputId": "6a3762a4-b5d3-470d-97cf-5a400dbf0b01"
      },
      "outputs": [
        {
          "output_type": "execute_result",
          "data": {
            "text/plain": [
              "720"
            ]
          },
          "metadata": {},
          "execution_count": 7
        }
      ],
      "source": [
        "def fact(n):\n",
        "  result=1\n",
        "  for i in range (1, n+1):\n",
        "    result=result*i\n",
        "    #print(result)\n",
        "  return result\n",
        "fact(6)"
      ]
    },
    {
      "cell_type": "code",
      "execution_count": null,
      "metadata": {
        "id": "2StjsEDWSyGv",
        "colab": {
          "base_uri": "https://localhost:8080/"
        },
        "outputId": "685a0792-066b-484d-aab0-f9e067ea5672"
      },
      "outputs": [
        {
          "output_type": "execute_result",
          "data": {
            "text/plain": [
              "3"
            ]
          },
          "metadata": {},
          "execution_count": 10
        }
      ],
      "source": [
        "def fib(n):\n",
        "  if n==0:\n",
        "    return 0\n",
        "  elif n==1:\n",
        "    return 1\n",
        "  else:\n",
        "    return fib(n-2)+fib(n-1)\n",
        "fib(4)"
      ]
    },
    {
      "cell_type": "code",
      "execution_count": null,
      "metadata": {
        "id": "iNlefNDoSyJs",
        "colab": {
          "base_uri": "https://localhost:8080/"
        },
        "outputId": "4eea8e20-07fa-48fa-96cb-70bfd7e338cb"
      },
      "outputs": [
        {
          "output_type": "stream",
          "name": "stdout",
          "text": [
            "Not Palindrom\n"
          ]
        }
      ],
      "source": [
        "string='leveel'\n",
        "if string == string[ : :-1]:\n",
        "  print('Palindrome')\n",
        "else:\n",
        "  print('Not Palindrom')"
      ]
    },
    {
      "cell_type": "code",
      "execution_count": null,
      "metadata": {
        "id": "8b4H5xw3SyMp"
      },
      "outputs": [],
      "source": [
        "def is_palindrom(string):\n",
        "  if len(string)<2:\n",
        "    return True\n",
        "  if string[0]!=string[-1]:\n",
        "    return False\n",
        "  return is_palindrom(string[1:-1])"
      ]
    },
    {
      "cell_type": "code",
      "execution_count": null,
      "metadata": {
        "id": "Piw0vMaHSyPW",
        "colab": {
          "base_uri": "https://localhost:8080/"
        },
        "outputId": "c4e53e89-38da-44c2-dc15-4bb3df814c63"
      },
      "outputs": [
        {
          "output_type": "execute_result",
          "data": {
            "text/plain": [
              "True"
            ]
          },
          "metadata": {},
          "execution_count": 5
        }
      ],
      "source": [
        "is_palindrom('level')"
      ]
    },
    {
      "cell_type": "code",
      "execution_count": null,
      "metadata": {
        "id": "hUK3VgUVSySd",
        "colab": {
          "base_uri": "https://localhost:8080/"
        },
        "outputId": "d38bf451-e780-4a8f-e81c-f5d163136387"
      },
      "outputs": [
        {
          "output_type": "stream",
          "name": "stdout",
          "text": [
            "Not Palindrome\n"
          ]
        }
      ],
      "source": [
        "if is_palindrom('leevel'):\n",
        "\n",
        " print('Palindrome')\n",
        "else:\n",
        "  print('Not Palindrome')\n"
      ]
    },
    {
      "cell_type": "code",
      "execution_count": null,
      "metadata": {
        "id": "TpC9VKV8SyVV",
        "colab": {
          "base_uri": "https://localhost:8080/"
        },
        "outputId": "38eb1250-1921-461d-e31b-951e7f4e903e"
      },
      "outputs": [
        {
          "output_type": "stream",
          "name": "stdout",
          "text": [
            "CPU times: user 28 µs, sys: 0 ns, total: 28 µs\n",
            "Wall time: 32.2 µs\n"
          ]
        },
        {
          "output_type": "execute_result",
          "data": {
            "text/plain": [
              "120"
            ]
          },
          "metadata": {},
          "execution_count": 11
        }
      ],
      "source": [
        "%%time\n",
        "def factorial(n):\n",
        "  if n==0:\n",
        "    return 1\n",
        "  else:\n",
        "    return n*factorial(n-1)\n",
        "factorial(5)"
      ]
    },
    {
      "cell_type": "code",
      "execution_count": null,
      "metadata": {
        "id": "mukzCJ52SyX0",
        "colab": {
          "base_uri": "https://localhost:8080/"
        },
        "outputId": "bf47dff4-b67d-41af-a9d2-14c51762b291"
      },
      "outputs": [
        {
          "output_type": "stream",
          "name": "stdout",
          "text": [
            "CPU times: user 33 µs, sys: 0 ns, total: 33 µs\n",
            "Wall time: 37.9 µs\n"
          ]
        },
        {
          "output_type": "execute_result",
          "data": {
            "text/plain": [
              "3628800"
            ]
          },
          "metadata": {},
          "execution_count": 12
        }
      ],
      "source": [
        "%%time\n",
        "def factorial(n):\n",
        "  if n==0:\n",
        "    return 1\n",
        "  else:\n",
        "    return n*factorial(n-1)\n",
        "factorial(10)"
      ]
    },
    {
      "cell_type": "code",
      "execution_count": null,
      "metadata": {
        "id": "lzUkvlorSyaU"
      },
      "outputs": [],
      "source": [
        "def display_reverse(arr,index):\n",
        "  if index<0:\n",
        "    return\n",
        "  else:\n",
        "    print(arr[index])\n",
        "    display_reverse(arr,index-1)"
      ]
    },
    {
      "cell_type": "code",
      "execution_count": null,
      "metadata": {
        "id": "ioD0dN5xSydI",
        "colab": {
          "base_uri": "https://localhost:8080/"
        },
        "outputId": "51189391-79b0-4f0c-fbcf-c88949d7b827"
      },
      "outputs": [
        {
          "output_type": "stream",
          "name": "stdout",
          "text": [
            "4\n",
            "3\n",
            "2\n",
            "1\n"
          ]
        }
      ],
      "source": [
        "my_array=[1,2,3,4,5]\n",
        "display_reverse(my_array,3)"
      ]
    },
    {
      "cell_type": "code",
      "execution_count": null,
      "metadata": {
        "id": "bdRKFheWSyfz",
        "colab": {
          "base_uri": "https://localhost:8080/"
        },
        "outputId": "2467e442-0d86-438f-f214-7975f5563afb"
      },
      "outputs": [
        {
          "output_type": "stream",
          "name": "stdout",
          "text": [
            "2\n",
            "2\n",
            "2\n"
          ]
        }
      ],
      "source": [
        "indx=2\n",
        "for i in range(0,indx+1):\n",
        "  print(my_array[indx-1])"
      ]
    },
    {
      "cell_type": "markdown",
      "source": [
        "# ***module 2***"
      ],
      "metadata": {
        "id": "SpfWi3pmgCEv"
      }
    },
    {
      "cell_type": "code",
      "execution_count": null,
      "metadata": {
        "id": "_6xMv56ySyi3"
      },
      "outputs": [],
      "source": [
        "import numpy as np\n",
        "import pandas as pd"
      ]
    },
    {
      "cell_type": "code",
      "execution_count": null,
      "metadata": {
        "id": "LUcgvdcuSyl1"
      },
      "outputs": [],
      "source": [
        "arr=np.array([1,2,3,4,5])\n",
        "df= pd.DataFrame({'Name':['Alice','Bob','Charlie'],'Age':[25,30,35]})"
      ]
    },
    {
      "cell_type": "code",
      "execution_count": null,
      "metadata": {
        "id": "d-kMegxkSyos",
        "colab": {
          "base_uri": "https://localhost:8080/"
        },
        "outputId": "4410a34e-84eb-49af-ff72-bf10539f1010"
      },
      "outputs": [
        {
          "output_type": "stream",
          "name": "stdout",
          "text": [
            "3\n",
            "1\n"
          ]
        }
      ],
      "source": [
        "print(arr[2])\n",
        "print(arr[0])"
      ]
    },
    {
      "cell_type": "code",
      "execution_count": null,
      "metadata": {
        "id": "YPDHd4GMSyrN",
        "colab": {
          "base_uri": "https://localhost:8080/"
        },
        "outputId": "729e3011-a370-412e-b2bf-440fae8f88fa"
      },
      "outputs": [
        {
          "output_type": "stream",
          "name": "stdout",
          "text": [
            "15\n",
            "3.0\n"
          ]
        }
      ],
      "source": [
        "\n",
        "print(sum(arr))\n",
        "mean=sum(arr)/len(arr)\n",
        "print(mean)"
      ]
    },
    {
      "cell_type": "code",
      "execution_count": null,
      "metadata": {
        "id": "YwcM2MhTSyuk",
        "colab": {
          "base_uri": "https://localhost:8080/"
        },
        "outputId": "0545867e-2db9-43fb-a908-c8d36903693f"
      },
      "outputs": [
        {
          "output_type": "execute_result",
          "data": {
            "text/plain": [
              "3.0"
            ]
          },
          "metadata": {},
          "execution_count": 5
        }
      ],
      "source": [
        "np.mean(arr)"
      ]
    },
    {
      "cell_type": "code",
      "execution_count": null,
      "metadata": {
        "id": "291GYxzMSyyf",
        "colab": {
          "base_uri": "https://localhost:8080/"
        },
        "outputId": "ee5d5873-a228-4412-927b-c1b5cfcbffcd"
      },
      "outputs": [
        {
          "output_type": "execute_result",
          "data": {
            "text/plain": [
              "3.0"
            ]
          },
          "metadata": {},
          "execution_count": 6
        }
      ],
      "source": [
        "np.median(arr)"
      ]
    },
    {
      "cell_type": "code",
      "execution_count": null,
      "metadata": {
        "id": "KGhqCCSiSy1J",
        "colab": {
          "base_uri": "https://localhost:8080/"
        },
        "outputId": "6b85a1b0-870f-4def-ad8e-f098936997a6"
      },
      "outputs": [
        {
          "output_type": "stream",
          "name": "stdout",
          "text": [
            "[29 67 73 71 91 43 58 24 29 73]\n",
            "[24 29 29 43 58 67 71 73 73 91]\n"
          ]
        }
      ],
      "source": [
        "import numpy as np\n",
        "arr=np.random.randint(0,100,size=10)\n",
        "arr_sorted=np.sort(arr)\n",
        "print(arr)\n",
        "print(arr_sorted)"
      ]
    },
    {
      "cell_type": "code",
      "execution_count": null,
      "metadata": {
        "id": "8HYdr-w7Sy38",
        "colab": {
          "base_uri": "https://localhost:8080/"
        },
        "outputId": "d04989bb-3d5d-4d82-8b58-3ff36996f8f6"
      },
      "outputs": [
        {
          "output_type": "stream",
          "name": "stdout",
          "text": [
            "[1 2 3 4 5]\n",
            "[ 1  4  9 16 25]\n",
            "15\n",
            "3.0\n"
          ]
        }
      ],
      "source": [
        "arr=np.array([1,2,3,4,5])\n",
        "arr_squared=arr**2\n",
        "arr_sum=np.sum(arr)\n",
        "arr_mean = np.mean(arr)\n",
        "\n",
        "print(arr)\n",
        "print(arr_squared)\n",
        "print(arr_sum)\n",
        "print(arr_mean)"
      ]
    },
    {
      "cell_type": "code",
      "execution_count": null,
      "metadata": {
        "id": "9EoaaTsuSy6l",
        "colab": {
          "base_uri": "https://localhost:8080/"
        },
        "outputId": "50394236-4553-4003-ef1e-f4cb23434909"
      },
      "outputs": [
        {
          "output_type": "execute_result",
          "data": {
            "text/plain": [
              "array([ 1,  4,  9, 16, 25])"
            ]
          },
          "metadata": {},
          "execution_count": 9
        }
      ],
      "source": [
        "np.square(arr)"
      ]
    },
    {
      "cell_type": "code",
      "execution_count": null,
      "metadata": {
        "id": "ZtkgVnY-Sy9T",
        "colab": {
          "base_uri": "https://localhost:8080/"
        },
        "outputId": "1dcef620-2fa4-4d47-fb54-321058bcf32d"
      },
      "outputs": [
        {
          "output_type": "stream",
          "name": "stdout",
          "text": [
            "[1 2 3 4 5]\n",
            "[[1 2 3]\n",
            " [4 5 6]\n",
            " [7 8 9]]\n"
          ]
        }
      ],
      "source": [
        "import numpy as np\n",
        "my_array= np.array([1,2,3,4,5])\n",
        "my_2d_arrya= np.array([[1,2,3],[4,5,6],[7,8,9]])\n",
        "print(my_array)\n",
        "print(my_2d_arrya)"
      ]
    },
    {
      "cell_type": "code",
      "execution_count": null,
      "metadata": {
        "id": "GXv8x1FWSy_r",
        "colab": {
          "base_uri": "https://localhost:8080/"
        },
        "outputId": "b948c0cb-cc0f-4124-ecd8-53d1da5ad44f"
      },
      "outputs": [
        {
          "output_type": "execute_result",
          "data": {
            "text/plain": [
              "1.4142135623730951"
            ]
          },
          "metadata": {},
          "execution_count": 14
        }
      ],
      "source": [
        "np.std(my_array)"
      ]
    },
    {
      "cell_type": "code",
      "execution_count": null,
      "metadata": {
        "id": "MNy7mMNqSzCq",
        "colab": {
          "base_uri": "https://localhost:8080/"
        },
        "outputId": "3482a319-3363-4fe5-e344-e19dbfc2d63f"
      },
      "outputs": [
        {
          "output_type": "stream",
          "name": "stdout",
          "text": [
            "[0 1 2 3 4 5 6 7 8 9]\n",
            "[5 7 9]\n"
          ]
        }
      ],
      "source": [
        "arr=np.arange(10)\n",
        "print(arr)\n",
        "arr2=np.arange(5,10,2)\n",
        "print(arr2)"
      ]
    },
    {
      "cell_type": "code",
      "execution_count": null,
      "metadata": {
        "id": "6epftwPnSzFf",
        "colab": {
          "base_uri": "https://localhost:8080/"
        },
        "outputId": "129e5230-5e85-4200-a35f-b4467196bb9a"
      },
      "outputs": [
        {
          "output_type": "execute_result",
          "data": {
            "text/plain": [
              "array([0.  , 0.25, 0.5 , 0.75, 1.  ])"
            ]
          },
          "metadata": {},
          "execution_count": 18
        }
      ],
      "source": [
        "arr=np.linspace(0,1,5)\n",
        "arr"
      ]
    },
    {
      "cell_type": "code",
      "execution_count": null,
      "metadata": {
        "id": "Et1BlgVwSzIG",
        "colab": {
          "base_uri": "https://localhost:8080/"
        },
        "outputId": "5377a7b1-46c3-45bd-d842-ec35594128ae"
      },
      "outputs": [
        {
          "output_type": "stream",
          "name": "stdout",
          "text": [
            "[0 1 2 3 4 5 6 7 8 9]\n"
          ]
        },
        {
          "output_type": "execute_result",
          "data": {
            "text/plain": [
              "array([[0, 1, 2, 3, 4],\n",
              "       [5, 6, 7, 8, 9]])"
            ]
          },
          "metadata": {},
          "execution_count": 21
        }
      ],
      "source": [
        "arr1d=np.arange(10)\n",
        "print(arr1d)\n",
        "arr2d=arr1d.reshape(2,5)\n",
        "arr2d"
      ]
    },
    {
      "cell_type": "code",
      "execution_count": null,
      "metadata": {
        "id": "RajK_qJ7SzK8",
        "colab": {
          "base_uri": "https://localhost:8080/"
        },
        "outputId": "4ac37e1a-510f-454a-dfdf-a65751c4edfb"
      },
      "outputs": [
        {
          "output_type": "execute_result",
          "data": {
            "text/plain": [
              "array([[0, 1, 2, 3, 4],\n",
              "       [5, 6, 7, 8, 9]])"
            ]
          },
          "metadata": {},
          "execution_count": 22
        }
      ],
      "source": [
        "arr1d.resize(2,5)\n",
        "arr1d"
      ]
    },
    {
      "cell_type": "code",
      "execution_count": null,
      "metadata": {
        "id": "DURVbQkZSzPo",
        "colab": {
          "base_uri": "https://localhost:8080/"
        },
        "outputId": "bc793f71-5f5c-40e3-83a9-9d37d8d3a0d8"
      },
      "outputs": [
        {
          "output_type": "stream",
          "name": "stdout",
          "text": [
            "[[1 2 3]\n",
            " [4 5 6]\n",
            " [7 8 9]]\n",
            "[[1 4 7]\n",
            " [2 5 8]\n",
            " [3 6 9]]\n"
          ]
        }
      ],
      "source": [
        "arr2d=np.array([[1,2,3],[4,5,6],[7,8,9]])\n",
        "print(arr2d)\n",
        "arr_transpose= np.transpose(arr2d)\n",
        "print(arr_transpose)"
      ]
    },
    {
      "cell_type": "code",
      "execution_count": null,
      "metadata": {
        "id": "VL9DJNZPSzSm",
        "colab": {
          "base_uri": "https://localhost:8080/"
        },
        "outputId": "d7fdf9d4-6327-4d1b-b00c-0c97ed2cc027"
      },
      "outputs": [
        {
          "output_type": "stream",
          "name": "stdout",
          "text": [
            "[[1 2 3]\n",
            " [4 5 6]\n",
            " [7 8 9]]\n",
            "[1 2 3 4 5 6 7 8 9]\n"
          ]
        }
      ],
      "source": [
        "arr_2d=np.array([[1,2,3],[4,5,6],[7,8,9]])\n",
        "arr_1d=arr_2d.flatten()\n",
        "print(arr_2d)\n",
        "print(arr_1d)"
      ]
    },
    {
      "cell_type": "code",
      "execution_count": null,
      "metadata": {
        "id": "JZ2KDSesSzVY",
        "colab": {
          "base_uri": "https://localhost:8080/"
        },
        "outputId": "42fbd8e3-c82a-4442-807d-ebc7af16aa16"
      },
      "outputs": [
        {
          "output_type": "stream",
          "name": "stdout",
          "text": [
            "[1 2 3]\n",
            "[2 5 8]\n",
            "[[4 5]\n",
            " [7 8]]\n"
          ]
        }
      ],
      "source": [
        "arr2d= np.array([[1,2,3],\n",
        "                 [4,5,6],\n",
        "                 [7,8,9]])\n",
        "row1=arr2d[0,:]\n",
        "print(row1)\n",
        "col2=arr2d[ :,1]\n",
        "print(col2)\n",
        "subarr=arr2d[1:3,0:2]\n",
        "print(subarr)"
      ]
    },
    {
      "cell_type": "code",
      "execution_count": null,
      "metadata": {
        "id": "Bv7Q6QobSzYT",
        "colab": {
          "base_uri": "https://localhost:8080/"
        },
        "outputId": "19cdfe9f-c315-4eae-ef3b-b9672a974521"
      },
      "outputs": [
        {
          "output_type": "stream",
          "name": "stdout",
          "text": [
            "[[1 2 3]\n",
            " [4 5 6]]\n",
            "[[1 2 3]\n",
            " [4 5 6]]\n",
            "[[4 5 6]\n",
            " [7 8 9]]\n"
          ]
        }
      ],
      "source": [
        "arr3d=np.array([[[1,2,3],\n",
        "               [4,5,6]],\n",
        "              [[7,8,9],\n",
        "               [10,11,12]]])\n",
        "mat1=arr3d[0, : ,:]\n",
        "print(mat1)\n",
        "col2=arr3d[0, : ,:]\n",
        "print(col2)\n",
        "subarr=arr2d[1:3,0:3]\n",
        "print(subarr)"
      ]
    },
    {
      "cell_type": "code",
      "execution_count": null,
      "metadata": {
        "id": "ToqFX1-hSzbY",
        "colab": {
          "base_uri": "https://localhost:8080/"
        },
        "outputId": "9a795ba7-24f1-40af-f35f-e45b67d41f7a"
      },
      "outputs": [
        {
          "output_type": "stream",
          "name": "stdout",
          "text": [
            "[1 4 5 2 3]\n"
          ]
        }
      ],
      "source": [
        "arr = np.array([1, 2, 3])\n",
        "new_arr = np.insert(arr, 1, [4, 5])\n",
        "print(new_arr)"
      ]
    },
    {
      "cell_type": "code",
      "execution_count": null,
      "metadata": {
        "id": "C56IzpkZSzdt",
        "colab": {
          "base_uri": "https://localhost:8080/"
        },
        "outputId": "9495361c-587b-4d48-ef54-d191ba6de579"
      },
      "outputs": [
        {
          "output_type": "stream",
          "name": "stdout",
          "text": [
            "[[1 3]\n",
            " [2 4]]\n"
          ]
        }
      ],
      "source": [
        "arr = np.array([[1, 2], [3, 4]])\n",
        "new_arr = np.transpose(arr)\n",
        "print(new_arr)"
      ]
    },
    {
      "cell_type": "code",
      "execution_count": null,
      "metadata": {
        "id": "MTFy2PFLSzgr",
        "colab": {
          "base_uri": "https://localhost:8080/"
        },
        "outputId": "cae80232-81ff-4253-c6ea-f278fdb37f50"
      },
      "outputs": [
        {
          "output_type": "stream",
          "name": "stdout",
          "text": [
            "[[1 2 3]\n",
            " [4 5 6]]\n"
          ]
        }
      ],
      "source": [
        "arr = np.array([1, 2, 3, 4, 5, 6])\n",
        "new_arr = np.reshape(arr, (2, 3))\n",
        "print(new_arr)\n",
        "\n",
        "\n"
      ]
    },
    {
      "cell_type": "code",
      "execution_count": null,
      "metadata": {
        "id": "wMOIcl6kSzjf"
      },
      "outputs": [],
      "source": []
    },
    {
      "cell_type": "code",
      "execution_count": null,
      "metadata": {
        "id": "pAGRxunHSzml"
      },
      "outputs": [],
      "source": []
    },
    {
      "cell_type": "code",
      "execution_count": null,
      "metadata": {
        "id": "liH4a2ycSzpq"
      },
      "outputs": [],
      "source": []
    },
    {
      "cell_type": "code",
      "execution_count": null,
      "metadata": {
        "id": "B5EzirUUSzs3"
      },
      "outputs": [],
      "source": []
    },
    {
      "cell_type": "code",
      "execution_count": null,
      "metadata": {
        "id": "BDKnD99cSzv7"
      },
      "outputs": [],
      "source": []
    },
    {
      "cell_type": "code",
      "execution_count": null,
      "metadata": {
        "id": "OI_tfqOYSzzC"
      },
      "outputs": [],
      "source": []
    },
    {
      "cell_type": "code",
      "execution_count": null,
      "metadata": {
        "id": "1sK9dBe7Sz16"
      },
      "outputs": [],
      "source": []
    },
    {
      "cell_type": "code",
      "execution_count": null,
      "metadata": {
        "id": "_vpKOMWoSz42"
      },
      "outputs": [],
      "source": []
    },
    {
      "cell_type": "code",
      "execution_count": null,
      "metadata": {
        "id": "zTLUg8WoSz7w"
      },
      "outputs": [],
      "source": []
    },
    {
      "cell_type": "code",
      "execution_count": null,
      "metadata": {
        "id": "URYpuqbSSz-x"
      },
      "outputs": [],
      "source": []
    },
    {
      "cell_type": "code",
      "execution_count": null,
      "metadata": {
        "id": "7-FukiE2S0Bb"
      },
      "outputs": [],
      "source": []
    },
    {
      "cell_type": "code",
      "execution_count": null,
      "metadata": {
        "id": "8Tw6dQ_GS0Ef"
      },
      "outputs": [],
      "source": []
    },
    {
      "cell_type": "code",
      "execution_count": null,
      "metadata": {
        "id": "b9oUQfuUS0HV"
      },
      "outputs": [],
      "source": []
    },
    {
      "cell_type": "code",
      "execution_count": null,
      "metadata": {
        "id": "DnTIwCWOS0KM"
      },
      "outputs": [],
      "source": []
    },
    {
      "cell_type": "code",
      "execution_count": null,
      "metadata": {
        "id": "WAtqb8WqS0M1"
      },
      "outputs": [],
      "source": []
    },
    {
      "cell_type": "code",
      "execution_count": null,
      "metadata": {
        "id": "Im1Q3sxdS0Ps"
      },
      "outputs": [],
      "source": []
    },
    {
      "cell_type": "code",
      "execution_count": null,
      "metadata": {
        "id": "NpFYYAjiS0Sa"
      },
      "outputs": [],
      "source": []
    },
    {
      "cell_type": "code",
      "execution_count": null,
      "metadata": {
        "id": "1v_1oYUeS0U3"
      },
      "outputs": [],
      "source": []
    },
    {
      "cell_type": "code",
      "execution_count": null,
      "metadata": {
        "id": "79DYxjOfS0YP"
      },
      "outputs": [],
      "source": []
    },
    {
      "cell_type": "code",
      "execution_count": null,
      "metadata": {
        "id": "oXpLKHXlS0dE"
      },
      "outputs": [],
      "source": []
    },
    {
      "cell_type": "code",
      "execution_count": null,
      "metadata": {
        "id": "yg-bofJ4S0gH"
      },
      "outputs": [],
      "source": []
    },
    {
      "cell_type": "code",
      "execution_count": null,
      "metadata": {
        "id": "DCXufhaPS0jL"
      },
      "outputs": [],
      "source": []
    },
    {
      "cell_type": "code",
      "execution_count": null,
      "metadata": {
        "id": "_jud2JR2S0mT"
      },
      "outputs": [],
      "source": []
    },
    {
      "cell_type": "code",
      "execution_count": null,
      "metadata": {
        "id": "QX0ynLs2S0p9"
      },
      "outputs": [],
      "source": []
    },
    {
      "cell_type": "code",
      "execution_count": null,
      "metadata": {
        "id": "qe99IRwpS0tX"
      },
      "outputs": [],
      "source": []
    },
    {
      "cell_type": "code",
      "execution_count": null,
      "metadata": {
        "id": "26DoI5SkS0yD"
      },
      "outputs": [],
      "source": []
    },
    {
      "cell_type": "code",
      "execution_count": null,
      "metadata": {
        "id": "8HNVsGg_S00m"
      },
      "outputs": [],
      "source": []
    },
    {
      "cell_type": "code",
      "execution_count": null,
      "metadata": {
        "id": "aRc4ncHrS06w"
      },
      "outputs": [],
      "source": []
    },
    {
      "cell_type": "code",
      "execution_count": null,
      "metadata": {
        "id": "JIU_RFmBS09j"
      },
      "outputs": [],
      "source": []
    },
    {
      "cell_type": "code",
      "execution_count": null,
      "metadata": {
        "id": "mZfLYkMtS1Ao"
      },
      "outputs": [],
      "source": []
    },
    {
      "cell_type": "code",
      "execution_count": null,
      "metadata": {
        "id": "g9emJ_RAS1C_"
      },
      "outputs": [],
      "source": []
    },
    {
      "cell_type": "code",
      "execution_count": null,
      "metadata": {
        "id": "FvdNObT3S1Fl"
      },
      "outputs": [],
      "source": []
    },
    {
      "cell_type": "code",
      "execution_count": null,
      "metadata": {
        "id": "AiO4mcpDS1Hx"
      },
      "outputs": [],
      "source": []
    },
    {
      "cell_type": "code",
      "execution_count": null,
      "metadata": {
        "id": "mfWYwRpcS1Kh"
      },
      "outputs": [],
      "source": []
    },
    {
      "cell_type": "code",
      "execution_count": null,
      "metadata": {
        "id": "1EmSlEHYS1M4"
      },
      "outputs": [],
      "source": []
    },
    {
      "cell_type": "code",
      "execution_count": null,
      "metadata": {
        "id": "qssbvt9HS1P-"
      },
      "outputs": [],
      "source": []
    },
    {
      "cell_type": "code",
      "execution_count": null,
      "metadata": {
        "id": "jstIVJu4S1S8"
      },
      "outputs": [],
      "source": []
    },
    {
      "cell_type": "code",
      "execution_count": null,
      "metadata": {
        "id": "8uSOQ7PBS1Va"
      },
      "outputs": [],
      "source": []
    },
    {
      "cell_type": "code",
      "execution_count": null,
      "metadata": {
        "id": "iubIrM3IS1bS"
      },
      "outputs": [],
      "source": []
    },
    {
      "cell_type": "code",
      "execution_count": null,
      "metadata": {
        "id": "bwsrriF4S1dt"
      },
      "outputs": [],
      "source": []
    },
    {
      "cell_type": "code",
      "execution_count": null,
      "metadata": {
        "id": "30i1F-14S1g1"
      },
      "outputs": [],
      "source": []
    },
    {
      "cell_type": "code",
      "execution_count": null,
      "metadata": {
        "id": "4uTSjF39S1jP"
      },
      "outputs": [],
      "source": []
    },
    {
      "cell_type": "code",
      "execution_count": null,
      "metadata": {
        "id": "aH9ZgeD0S1o8"
      },
      "outputs": [],
      "source": []
    },
    {
      "cell_type": "code",
      "execution_count": null,
      "metadata": {
        "id": "CuEyrQ0wS1sj"
      },
      "outputs": [],
      "source": []
    },
    {
      "cell_type": "code",
      "execution_count": null,
      "metadata": {
        "id": "3YPzaaTWS1wu"
      },
      "outputs": [],
      "source": []
    },
    {
      "cell_type": "code",
      "execution_count": null,
      "metadata": {
        "id": "6zGnENnTS1z2"
      },
      "outputs": [],
      "source": []
    },
    {
      "cell_type": "code",
      "execution_count": null,
      "metadata": {
        "id": "lDdkbyDhS11r"
      },
      "outputs": [],
      "source": []
    },
    {
      "cell_type": "code",
      "execution_count": null,
      "metadata": {
        "id": "VRrxIoeYS14j"
      },
      "outputs": [],
      "source": []
    },
    {
      "cell_type": "code",
      "execution_count": null,
      "metadata": {
        "id": "02eCxC5pS167"
      },
      "outputs": [],
      "source": []
    },
    {
      "cell_type": "code",
      "execution_count": null,
      "metadata": {
        "id": "xklvBRruS193"
      },
      "outputs": [],
      "source": []
    },
    {
      "cell_type": "code",
      "execution_count": null,
      "metadata": {
        "id": "XR_HgsH5S2Ap"
      },
      "outputs": [],
      "source": []
    },
    {
      "cell_type": "code",
      "execution_count": null,
      "metadata": {
        "id": "luPxakd0S2Dc"
      },
      "outputs": [],
      "source": []
    },
    {
      "cell_type": "code",
      "execution_count": null,
      "metadata": {
        "id": "cYaVkzJSS2Gc"
      },
      "outputs": [],
      "source": []
    },
    {
      "cell_type": "code",
      "execution_count": null,
      "metadata": {
        "id": "hG-xuBK5S2Jc"
      },
      "outputs": [],
      "source": []
    },
    {
      "cell_type": "code",
      "execution_count": null,
      "metadata": {
        "id": "-vsE6SkZS2MV"
      },
      "outputs": [],
      "source": []
    },
    {
      "cell_type": "code",
      "execution_count": null,
      "metadata": {
        "id": "hwTOE01_S2PL"
      },
      "outputs": [],
      "source": []
    },
    {
      "cell_type": "code",
      "execution_count": null,
      "metadata": {
        "id": "u-ru2B8CS2SD"
      },
      "outputs": [],
      "source": []
    },
    {
      "cell_type": "code",
      "execution_count": null,
      "metadata": {
        "id": "pMMq-_3TS2VD"
      },
      "outputs": [],
      "source": []
    },
    {
      "cell_type": "code",
      "execution_count": null,
      "metadata": {
        "id": "a42fZyq7S2YA"
      },
      "outputs": [],
      "source": []
    },
    {
      "cell_type": "code",
      "execution_count": null,
      "metadata": {
        "id": "DzoKwnS9S2a9"
      },
      "outputs": [],
      "source": []
    },
    {
      "cell_type": "code",
      "execution_count": null,
      "metadata": {
        "id": "KLtxdQAuS2dl"
      },
      "outputs": [],
      "source": []
    },
    {
      "cell_type": "code",
      "execution_count": null,
      "metadata": {
        "id": "03lLN8LcS2g3"
      },
      "outputs": [],
      "source": []
    },
    {
      "cell_type": "code",
      "execution_count": null,
      "metadata": {
        "id": "1qWDVQVUS2j-"
      },
      "outputs": [],
      "source": []
    },
    {
      "cell_type": "code",
      "execution_count": null,
      "metadata": {
        "id": "DpZ5m4aRS2nB"
      },
      "outputs": [],
      "source": []
    },
    {
      "cell_type": "code",
      "execution_count": null,
      "metadata": {
        "id": "hP8q-THdS2p1"
      },
      "outputs": [],
      "source": []
    },
    {
      "cell_type": "code",
      "execution_count": null,
      "metadata": {
        "id": "EuWgSG2dS2s3"
      },
      "outputs": [],
      "source": []
    },
    {
      "cell_type": "code",
      "execution_count": null,
      "metadata": {
        "id": "nyjFE355S2v5"
      },
      "outputs": [],
      "source": []
    },
    {
      "cell_type": "code",
      "execution_count": null,
      "metadata": {
        "id": "jF_nm1dwS2zD"
      },
      "outputs": [],
      "source": []
    },
    {
      "cell_type": "code",
      "execution_count": null,
      "metadata": {
        "id": "7_cgGJ6cS219"
      },
      "outputs": [],
      "source": []
    },
    {
      "cell_type": "code",
      "execution_count": null,
      "metadata": {
        "id": "VxAziWeRS25F"
      },
      "outputs": [],
      "source": []
    },
    {
      "cell_type": "code",
      "execution_count": null,
      "metadata": {
        "id": "Z6MDf-mzS27-"
      },
      "outputs": [],
      "source": []
    },
    {
      "cell_type": "code",
      "execution_count": null,
      "metadata": {
        "id": "iu3fAKSXS2_D"
      },
      "outputs": [],
      "source": []
    },
    {
      "cell_type": "code",
      "execution_count": null,
      "metadata": {
        "id": "YdWQd61MS3Ct"
      },
      "outputs": [],
      "source": []
    },
    {
      "cell_type": "code",
      "execution_count": null,
      "metadata": {
        "id": "H_LIpebuS3ES"
      },
      "outputs": [],
      "source": []
    },
    {
      "cell_type": "code",
      "execution_count": null,
      "metadata": {
        "id": "mKm4-syJS3Hs"
      },
      "outputs": [],
      "source": []
    },
    {
      "cell_type": "code",
      "execution_count": null,
      "metadata": {
        "id": "XWthNtRkS3Kn"
      },
      "outputs": [],
      "source": []
    },
    {
      "cell_type": "code",
      "execution_count": null,
      "metadata": {
        "id": "hjkvuymES3OB"
      },
      "outputs": [],
      "source": []
    },
    {
      "cell_type": "code",
      "execution_count": null,
      "metadata": {
        "id": "4swiVybQS3Rh"
      },
      "outputs": [],
      "source": []
    },
    {
      "cell_type": "code",
      "execution_count": null,
      "metadata": {
        "id": "EcplnnERS3U8"
      },
      "outputs": [],
      "source": []
    },
    {
      "cell_type": "code",
      "execution_count": null,
      "metadata": {
        "id": "tGhUtMRUS3YU"
      },
      "outputs": [],
      "source": []
    },
    {
      "cell_type": "code",
      "execution_count": null,
      "metadata": {
        "id": "_rG4zeTVS3bQ"
      },
      "outputs": [],
      "source": []
    },
    {
      "cell_type": "code",
      "execution_count": null,
      "metadata": {
        "id": "hhP87P62S3eq"
      },
      "outputs": [],
      "source": []
    },
    {
      "cell_type": "code",
      "execution_count": null,
      "metadata": {
        "id": "PgdHJyPMS3iL"
      },
      "outputs": [],
      "source": []
    },
    {
      "cell_type": "code",
      "execution_count": null,
      "metadata": {
        "id": "HJ-j-32DS3lJ"
      },
      "outputs": [],
      "source": []
    },
    {
      "cell_type": "code",
      "execution_count": null,
      "metadata": {
        "id": "Liyk7p9US3od"
      },
      "outputs": [],
      "source": []
    },
    {
      "cell_type": "code",
      "execution_count": null,
      "metadata": {
        "id": "ND9pPuENS3sH"
      },
      "outputs": [],
      "source": []
    },
    {
      "cell_type": "code",
      "execution_count": null,
      "metadata": {
        "id": "IamfmumGS3vt"
      },
      "outputs": [],
      "source": []
    },
    {
      "cell_type": "code",
      "execution_count": null,
      "metadata": {
        "id": "uV_KWAHmS3zX"
      },
      "outputs": [],
      "source": []
    },
    {
      "cell_type": "code",
      "execution_count": null,
      "metadata": {
        "id": "p08QcLQMS33G"
      },
      "outputs": [],
      "source": []
    },
    {
      "cell_type": "code",
      "execution_count": null,
      "metadata": {
        "id": "quDdPjhzS36Z"
      },
      "outputs": [],
      "source": []
    },
    {
      "cell_type": "code",
      "execution_count": null,
      "metadata": {
        "id": "DCeQADWBS391"
      },
      "outputs": [],
      "source": []
    },
    {
      "cell_type": "code",
      "execution_count": null,
      "metadata": {
        "id": "_B27EKolS4BJ"
      },
      "outputs": [],
      "source": []
    },
    {
      "cell_type": "code",
      "execution_count": null,
      "metadata": {
        "id": "pMYXLyjuS4EH"
      },
      "outputs": [],
      "source": []
    },
    {
      "cell_type": "code",
      "execution_count": null,
      "metadata": {
        "id": "BN4f0eRhS4HL"
      },
      "outputs": [],
      "source": []
    },
    {
      "cell_type": "code",
      "execution_count": null,
      "metadata": {
        "id": "ze3ExwNNS4KR"
      },
      "outputs": [],
      "source": []
    },
    {
      "cell_type": "code",
      "execution_count": null,
      "metadata": {
        "id": "U2urKg0vS4NZ"
      },
      "outputs": [],
      "source": []
    },
    {
      "cell_type": "code",
      "execution_count": null,
      "metadata": {
        "id": "DcCLkXfvS4QX"
      },
      "outputs": [],
      "source": []
    },
    {
      "cell_type": "code",
      "execution_count": null,
      "metadata": {
        "id": "JXcZmdIBS4Ta"
      },
      "outputs": [],
      "source": []
    },
    {
      "cell_type": "code",
      "execution_count": null,
      "metadata": {
        "id": "S_NDDWe9S4Wg"
      },
      "outputs": [],
      "source": []
    },
    {
      "cell_type": "code",
      "execution_count": null,
      "metadata": {
        "id": "abBn3u6xS4Yt"
      },
      "outputs": [],
      "source": []
    },
    {
      "cell_type": "code",
      "execution_count": null,
      "metadata": {
        "id": "5Fh0bB07S4gj"
      },
      "outputs": [],
      "source": []
    },
    {
      "cell_type": "code",
      "execution_count": null,
      "metadata": {
        "id": "rJTMzIUbS4jf"
      },
      "outputs": [],
      "source": []
    },
    {
      "cell_type": "code",
      "execution_count": null,
      "metadata": {
        "id": "1Vemn4lnS4mO"
      },
      "outputs": [],
      "source": []
    },
    {
      "cell_type": "code",
      "execution_count": null,
      "metadata": {
        "id": "K1TWL5iOS4os"
      },
      "outputs": [],
      "source": []
    },
    {
      "cell_type": "code",
      "execution_count": null,
      "metadata": {
        "id": "ICVBwNyZS4r0"
      },
      "outputs": [],
      "source": []
    },
    {
      "cell_type": "code",
      "execution_count": null,
      "metadata": {
        "id": "FPGyHHEVS4us"
      },
      "outputs": [],
      "source": []
    },
    {
      "cell_type": "code",
      "execution_count": null,
      "metadata": {
        "id": "3AF6Ph3cS4xT"
      },
      "outputs": [],
      "source": []
    },
    {
      "cell_type": "code",
      "execution_count": null,
      "metadata": {
        "id": "MQhLVfaqS40a"
      },
      "outputs": [],
      "source": []
    },
    {
      "cell_type": "code",
      "execution_count": null,
      "metadata": {
        "id": "jHS5ALt1S43T"
      },
      "outputs": [],
      "source": []
    },
    {
      "cell_type": "code",
      "execution_count": null,
      "metadata": {
        "id": "XU8yCBjUS45_"
      },
      "outputs": [],
      "source": []
    },
    {
      "cell_type": "code",
      "execution_count": null,
      "metadata": {
        "id": "faVKvAYKS485"
      },
      "outputs": [],
      "source": []
    },
    {
      "cell_type": "code",
      "execution_count": null,
      "metadata": {
        "id": "Z5Y2Qz2XS4_z"
      },
      "outputs": [],
      "source": []
    },
    {
      "cell_type": "code",
      "execution_count": null,
      "metadata": {
        "id": "XYJE6Jm5S5Cd"
      },
      "outputs": [],
      "source": []
    },
    {
      "cell_type": "code",
      "execution_count": null,
      "metadata": {
        "id": "S74BWgt7S5Fk"
      },
      "outputs": [],
      "source": []
    },
    {
      "cell_type": "code",
      "execution_count": null,
      "metadata": {
        "id": "3PSvZJcBS5IV"
      },
      "outputs": [],
      "source": []
    },
    {
      "cell_type": "code",
      "execution_count": null,
      "metadata": {
        "id": "RzzrzFpxS5LF"
      },
      "outputs": [],
      "source": []
    },
    {
      "cell_type": "code",
      "execution_count": null,
      "metadata": {
        "id": "NV81XuEQS5N9"
      },
      "outputs": [],
      "source": []
    },
    {
      "cell_type": "code",
      "execution_count": null,
      "metadata": {
        "id": "nRjp1f6QS5Qz"
      },
      "outputs": [],
      "source": []
    },
    {
      "cell_type": "code",
      "execution_count": null,
      "metadata": {
        "id": "zd6ARzCrS5Tq"
      },
      "outputs": [],
      "source": []
    },
    {
      "cell_type": "code",
      "execution_count": null,
      "metadata": {
        "id": "ZPnr5A3zS5Wt"
      },
      "outputs": [],
      "source": []
    },
    {
      "cell_type": "code",
      "execution_count": null,
      "metadata": {
        "id": "XVdqWPfES5Zh"
      },
      "outputs": [],
      "source": []
    },
    {
      "cell_type": "code",
      "execution_count": null,
      "metadata": {
        "id": "xHVPEyAJS5dI"
      },
      "outputs": [],
      "source": []
    },
    {
      "cell_type": "code",
      "execution_count": null,
      "metadata": {
        "id": "DZciqhQPS5go"
      },
      "outputs": [],
      "source": []
    }
  ],
  "metadata": {
    "colab": {
      "provenance": [],
      "include_colab_link": true
    },
    "kernelspec": {
      "display_name": "Python 3",
      "name": "python3"
    }
  },
  "nbformat": 4,
  "nbformat_minor": 0
}